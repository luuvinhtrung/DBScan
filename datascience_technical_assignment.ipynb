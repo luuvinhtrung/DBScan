{
 "cells": [
  {
   "cell_type": "markdown",
   "metadata": {},
   "source": [
    "# 1. Introduction"
   ]
  },
  {
   "cell_type": "markdown",
   "metadata": {},
   "source": [
    "## Guidelines\n",
    "Please complete the assignment inside this notebook. Make sure the code can be executed easily.\n",
    "\n",
    "- Write production-ready code using OOP when relevant.\n",
    "- For question 1, create simple unit tests for your code where applicable.\n",
    "- For question 1, add comments and documentation strings for all methods. \n",
    "- For question 2 and 3, discuss your design choices.\n",
    "- For question 2 and 3, discuss the complexity (Big O notation) of your solutions, both memory wise and performance wise.\n",
    "- For question3, provide map visualization when relevant\n",
    "- Try to stick to the most popular scientific Python libraries."
   ]
  },
  {
   "cell_type": "markdown",
   "metadata": {},
   "source": [
    "## Input data\n",
    "You should have received three csv files. Each csv-file represents the locations where a person was stationary for a certain amount of time. \n",
    "The csv-files contain the following fields:\n",
    "\n",
    "- Latitude: The latitude of the detected GPS coordinates Longitude: The longitude of the detected GPS coordinates\n",
    "- Timestamp: The start time of the stationary in the following format:\n",
    "    - YYYY = year\n",
    "    - MM = month of year\n",
    "    - dd = day of month\n",
    "    - HH=hourofday\n",
    "    - mm = minute of hour\n",
    "    - Z = timezone offset\n",
    "- Duration: The length of time the person was stationary (in milliseconds)\n",
    "    \n",
    "All questions in this assignment are related to this data."
   ]
  },
  {
   "cell_type": "code",
   "execution_count": 2,
   "metadata": {
    "collapsed": true
   },
   "outputs": [],
   "source": [
    "# import statements go here."
   ]
  },
  {
   "cell_type": "markdown",
   "metadata": {},
   "source": [
    "# 2. Programming skills"
   ]
  },
  {
   "cell_type": "markdown",
   "metadata": {},
   "source": [
    "## Question 1: Data parsing\n",
    "- Create the code needed to read and parse the data.\n",
    "- Print out some summary statistics of the data\n",
    "    - e.g. Average number of places visited per day\n",
    "    - e.g. Median distance traveled between two subsequent stationary locations\n",
    "    - ..."
   ]
  },
  {
   "cell_type": "markdown",
   "metadata": {},
   "source": [
    "## Question 2: Data lookup\n",
    "Create a method that generates a lookup table allowing us to effiently check whether or not a user has ever visited a location even if the new location is not exactly the same as the visited location (some noise is added to the longitude/latitude pairs)."
   ]
  },
  {
   "cell_type": "code",
   "execution_count": null,
   "metadata": {
    "collapsed": true
   },
   "outputs": [],
   "source": []
  },
  {
   "cell_type": "markdown",
   "metadata": {},
   "source": [
    "## Question 3: Home and work detection\n",
    "The goal of this question, is to design an algorithm that allows us to distinguish the likely home locations of a user from his likely work locations.\n",
    "\n",
    "Note that a person might have multiple home and work locations, or might not have a work location at all. Also note that the data might be noise, incorrect and/or incomplete.\n",
    "\n",
    "Discuss your choice of algorithms, rules, methods, distance measures, etc."
   ]
  },
  {
   "cell_type": "code",
   "execution_count": null,
   "metadata": {
    "collapsed": true
   },
   "outputs": [],
   "source": []
  }
 ],
 "metadata": {
  "kernelspec": {
   "display_name": "Python 2",
   "language": "python",
   "name": "python2"
  },
  "language_info": {
   "codemirror_mode": {
    "name": "ipython",
    "version": 2
   },
   "file_extension": ".py",
   "mimetype": "text/x-python",
   "name": "python",
   "nbconvert_exporter": "python",
   "pygments_lexer": "ipython2",
   "version": "2.7.10"
  }
 },
 "nbformat": 4,
 "nbformat_minor": 1
}
